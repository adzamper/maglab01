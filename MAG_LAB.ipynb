{
 "cells": [
  {
   "cell_type": "code",
   "execution_count": 1,
   "metadata": {
    "colab": {
     "base_uri": "https://localhost:8080/",
     "height": 331
    },
    "executionInfo": {
     "elapsed": 4,
     "status": "error",
     "timestamp": 1707240537922,
     "user": {
      "displayName": "Anthony Zamperoni",
      "userId": "02064825262052154039"
     },
     "user_tz": 300
    },
    "id": "VPOFiZNjcrIp",
    "is_executing": true,
    "outputId": "ceaeba5e-9178-474e-9937-aae64b41e441"
   },
   "outputs": [],
   "source": [
    "from MagDipoleApp import MagneticDipoleApp\n",
    "mag = MagneticDipoleApp()"
   ]
  },
  {
   "cell_type": "markdown",
   "metadata": {
    "collapsed": false,
    "id": "vUD3oiBscrIr"
   },
   "source": [
    "# Magnetic Dipole Applet\n",
    "## Purpose\n",
    "\n",
    "The objective is to learn about the magnetic field observed at the ground's surface, caused by a small buried dipolar magnet. In geophysics, this simulates the observed anomaly over a buried susceptible sphere that is magnetized by the Earth's magnetic field.\n",
    "\n",
    "## What is shown\n",
    "\n",
    "- <b>The colour map</b> shows the strength of the chosen parameter (Bt, Bx, By, Bz, or Bg) as a function of position.\n",
    "\n",
    "- Imagine doing a two dimensional survey over a susceptible sphere that has been magentized by the Earth's magnetic field specified by inclination and declination.  \"Measurement\" location is the centre of each coloured box. This is a simple (but easily programmable) alternative to generating a smooth contour map.\n",
    "\n",
    "- The anomaly depends upon magnetic latitude, direction of the inducing (Earth's) field, the depth of the buried dipole, and the magnetic moment of the buried dipole.\n",
    "\n",
    "\n",
    "## Important Notes:\n",
    "\n",
    "- <b>Inclination (I)</b> and <b>declination (D)</b> describe the orientation of the Earth's ambient field at the centre of the survey area. Positive inclination implies you are in the northern hemisphere, and positive declination implies that magnetic north is to the east of geographic north.\n",
    "\n",
    "- The <b>\"length\"</b> adjuster changes the size of the square survey area. The default of 72 means the survey square is 72 metres on a side.\n",
    "\n",
    "- The <b>\"data spacing\"</b> adjuster changes the distance between measurements. The default of 1 means measurements were acquired over the survey square on a 2-metre grid. In other words, \"data spacing = 2\" means each coloured box is 2 m square.\n",
    "\n",
    "- The <b>\"depth\"</b> adjuster changes the depth (in metres) to the centre of the buried dipole.\n",
    "\n",
    "- The <b>\"magnetic moment (M)\"</b> adjuster changes the strength of the induced field. Units are Am2.  This is related to the strength of the inducing field, the susceptibility of the buried sphere, and the volume of susceptible material.\n",
    "- <b>Bt, Bg, Bx, By, Bz</b> are Total field, X-component (positive northwards), Y-component (positive eastwards), and Z-component (positive down) of the anomaly field respectively.\n",
    "\n",
    "- Checking the <b>fixed scale</b> button fixes the colour scale so that the end points of the colour scale are minimum and maximum values for the current data set.\n",
    "\n",
    "- You can generate a <b>profile</b> along either \"East\" or \"North\" direction\n",
    "\n",
    "- Check <b>half width</b> to see the half width of the anomaly. Anomaly width is noted on the botton of the graph.\n",
    "\n",
    "- Measurements are taken 1m above the surface.\n",
    "\n",
    "- For gradient data (<b>Bg</b>), measurements are taken at 1m and 2m\n",
    "\n",
    "- Note that magnetic moment (M) for monopole is equal to the charge (Q):"
   ]
  },
  {
   "cell_type": "code",
   "execution_count": 2,
   "metadata": {
    "ExecuteTime": {
     "end_time": "2024-02-07T16:06:42.787492900Z",
     "start_time": "2024-02-07T16:06:42.646248500Z"
    },
    "colab": {
     "referenced_widgets": [
      "ac0d65934efd478aa41665e08ea6f6d9"
     ]
    },
    "id": "NrugCqb-crIs",
    "outputId": "882cd519-7000-4610-c857-e653a9911fb0"
   },
   "outputs": [
    {
     "data": {
      "application/vnd.jupyter.widget-view+json": {
       "model_id": "dc7f197b71aa4d0abb4331b6ba5624a1",
       "version_major": 2,
       "version_minor": 0
      },
      "text/plain": [
       "HBox(children=(VBox(children=(RadioButtons(description='field', options=('Bt', 'Bx', 'By', 'Bz', 'Bg'), value=…"
      ]
     },
     "execution_count": 2,
     "metadata": {},
     "output_type": "execute_result"
    }
   ],
   "source": [
    "mag.interact_plot_model_dipole()"
   ]
  },
  {
   "cell_type": "code",
   "execution_count": 3,
   "metadata": {
    "ExecuteTime": {
     "end_time": "2024-02-07T16:06:42.808307600Z",
     "start_time": "2024-02-07T16:06:42.785491800Z"
    },
    "id": "1HO6q-yFcrIt"
   },
   "outputs": [],
   "source": [
    "from LinearInversionDirect import LinearInversionDirectApp\n",
    "from ipywidgets import interact, FloatSlider, ToggleButtons, IntSlider, FloatText, IntText"
   ]
  },
  {
   "cell_type": "code",
   "execution_count": 4,
   "metadata": {
    "ExecuteTime": {
     "end_time": "2024-02-07T16:06:43.035852200Z",
     "start_time": "2024-02-07T16:06:43.020470700Z"
    },
    "id": "-Dgkv8I4crIt"
   },
   "outputs": [],
   "source": [
    "app = LinearInversionDirectApp()"
   ]
  },
  {
   "cell_type": "markdown",
   "metadata": {
    "collapsed": false,
    "id": "iSv2hiUfcrIt"
   },
   "source": [
    "# Linear Inversion App\n",
    "\n",
    "This app is based upon the inversion tutorial: \"INVERSION FOR APPLIED GEOPHYSICS\" by Oldenburg and Li (2005).\n",
    "\n",
    "Douglas W. Oldenburg and Yaoguo Li (2005) 5. Inversion for Applied Geophysics: A Tutorial. Near-Surface Geophysics: pp. 89-150.\n",
    "eISBN: 978-1-56080-171-9\n",
    "print ISBN: 978-1-56080-130-6\n",
    "https://doi.org/10.1190/1.9781560801719.ch5"
   ]
  },
  {
   "cell_type": "markdown",
   "metadata": {
    "collapsed": false,
    "id": "ae_JoocncrIu"
   },
   "source": [
    "## Purpose\n",
    "\n",
    "By using a simple decaying and oscillating kernel function, which emulates the physics of electromagnetic (EM) survey, we understand basic concepts of inverting data. Three items that we are going to explore are:\n",
    "\n",
    "- Step1: Create a model ($\\mathbf{m}$)\n",
    "- Step2: Generate a sensitivity kernel (or matrix), $\\mathbf{G}$\n",
    "- Step3: Simulate data ($\\mathbf{d} = \\mathbf{G}\\mathbf{m}$)\n",
    "- Step4: All three steps together\n",
    "- Step5: Invert the data, and explore inversion results\n",
    "\n",
    "## Forward problem\n",
    "\n",
    "\n",
    "Let $g_j(x)$ denote the kernel function for $j$th datum. With a given model $m(x)$, $j$th datum can be computed by solving following integral equation:\n",
    "\n",
    " $$ d_j = \\int_a^{b} g_j(x) m(x) dx $$\n",
    "\n",
    "where\n",
    "\n",
    "$$ g_j(x) = e^{p_jx} cos (2 \\pi q_jx) $$\n",
    "\n",
    "By discretizing $g_j(x)$ we obtain\n",
    "\n",
    " $$ \\mathbf{g}_j(\\mathbf{x}) = e^{p_j\\mathbf{x}} cos (2 \\pi q_j \\mathbf{x})$$\n",
    "\n",
    "where\n",
    "\n",
    "- $\\mathbf{g}_j$: $j$th row vector for the sensitivty matrix ($1 \\times M$)\n",
    "- $\\mathbf{x}$: model location ($1 \\times M$)\n",
    "- $p_j$: decaying constant (<0)\n",
    "- $q_j$: oscillating constant (>0)\n",
    "\n",
    "By stacking multiple rows of $\\mathbf{g}_j$, we obtain sensitivity matrix, $\\mathbf{G}$:\n",
    "\n",
    "\\begin{align}\n",
    "    \\mathbf{G} =\n",
    "    \\begin{bmatrix}\n",
    "        \\mathbf{g}_1\\\\\n",
    "        \\vdots\\\\\n",
    "        \\mathbf{g}_{N}\n",
    "    \\end{bmatrix}\n",
    "\\end{align}\n",
    "\n",
    "Here, the size of the matrix $\\mathbf{G}$ is $(N \\times M)$.\n",
    "Finally data, $\\mathbf{d}$, can be written as a linear equation:\n",
    "\n",
    "$$ \\mathbf{d} = \\mathbf{G}\\mathbf{m}$$\n",
    "\n",
    "where $\\mathbf{m}$ is an inversion model; this is a column vector ($M \\times 1$).\n",
    "\n",
    "In real measurments, there will be various noises source, and hence observation, $\\mathbf{d}^{obs}$, can be written as\n",
    "\n",
    "$$ \\mathbf{d}^{obs} = \\mathbf{G}\\mathbf{m} + \\mathbf{noise}$$"
   ]
  },
  {
   "cell_type": "markdown",
   "metadata": {
    "collapsed": false,
    "id": "jXeVH0FFcrIu"
   },
   "source": [
    "##  Step1: Create a model, $\\mathbf{m}$\n",
    "\n",
    "The model $m$ is a function defined on the interval (-2,2). Here we generate a model that is the sum of a: (a) background $m_{ref}$, (b) box car $m_1$ and (c) Gaussian $m_2$. The box car is defined by\n",
    "- m$_{background}$ : amplitude of the background\n",
    "- m$1$ : amplitude\n",
    "- m$1_{center}$ : center\n",
    "- m$1_{width}$ : width the Gaussian is defined by\n",
    "- m$2$ : amplitude\n",
    "- m$2_{center}$ : center\n",
    "- m$2_{sigma}$ : width of Gaussian (as defined by a standard deviation)\n",
    "- M: # of model parameters"
   ]
  },
  {
   "cell_type": "code",
   "execution_count": 5,
   "metadata": {
    "ExecuteTime": {
     "end_time": "2024-02-07T16:06:46.235410300Z",
     "start_time": "2024-02-07T16:06:46.135086300Z"
    },
    "colab": {
     "referenced_widgets": [
      "9492567c0cd141279c28241e1349659f"
     ]
    },
    "id": "bl6CHZqwcrIu",
    "outputId": "3572182d-0292-4d85-d8b0-db8bb208bbdb"
   },
   "outputs": [
    {
     "data": {
      "application/vnd.jupyter.widget-view+json": {
       "model_id": "208002e30abf4f5c9a2f1693c5d6b620",
       "version_major": 2,
       "version_minor": 0
      },
      "text/plain": [
       "interactive(children=(FloatSlider(value=0.0, continuous_update=False, description='m$_{background}$', max=2.0,…"
      ]
     },
     "metadata": {},
     "output_type": "display_data"
    }
   ],
   "source": [
    "Q_model = app.interact_plot_model()"
   ]
  },
  {
   "cell_type": "markdown",
   "metadata": {
    "collapsed": false,
    "id": "zhZlzT5AcrIv"
   },
   "source": [
    "##  Step2: Generate a sensitivity kernel (or matrix), $\\mathbf{G}$\n",
    "\n",
    "By using the following app, we explore each row vector of the sensitivity matrix, $\\mathbf{g}_j$. Parameters of the apps are:\n",
    "\n",
    "- M: # of model parameters\n",
    "- N: # of data\n",
    "- p: decaying constant (<0)\n",
    "- q: oscillating constant (>0)\n",
    "- ymin: maximum limit for y-axis\n",
    "- ymax: minimum limit for y-axis\n",
    "- show_singular: show singualr values"
   ]
  },
  {
   "cell_type": "code",
   "execution_count": 6,
   "metadata": {
    "ExecuteTime": {
     "end_time": "2024-02-07T16:06:47.884903900Z",
     "start_time": "2024-02-07T16:06:47.737743500Z"
    },
    "colab": {
     "referenced_widgets": [
      "537fb617d6a14a1992705761899e80c3"
     ]
    },
    "id": "D0H2RuxdcrIv",
    "outputId": "6d02cae6-0652-443a-9fb9-284dbe3d94e6"
   },
   "outputs": [
    {
     "data": {
      "application/vnd.jupyter.widget-view+json": {
       "model_id": "c42c975bb30f4725be55fdde0866e1a7",
       "version_major": 2,
       "version_minor": 0
      },
      "text/plain": [
       "interactive(children=(IntSlider(value=20, continuous_update=False, description='N', min=1), IntSlider(value=10…"
      ]
     },
     "metadata": {},
     "output_type": "display_data"
    }
   ],
   "source": [
    "Q_kernel = app.interact_plot_G()"
   ]
  },
  {
   "cell_type": "markdown",
   "metadata": {
    "collapsed": false,
    "id": "aVX1yVfYcrIv"
   },
   "source": [
    "## Step3: Simulate data\n",
    "\n",
    "The $j$-th datum is the inner product of the $j$-th kernel $g_j(x)$ and the model $m(x)$. In discrete form it can be written as the dot product of the vector $g_j$ and the model vector $m$.\n",
    "\n",
    "### $$ d_j = \\mathbf{g}_j \\mathbf{m} $$\n",
    "\n",
    "If there are $N$ data, these data can be written as a column vector, $\\mathbf{d}$:\n",
    "\n",
    "\\begin{align}\n",
    "    \\mathbf{d} = \\mathbf{G}\\mathbf{m} =\n",
    "    \\begin{bmatrix}\n",
    "        d_1\\\\\n",
    "        \\vdots\\\\\n",
    "        d_{N}\n",
    "    \\end{bmatrix}\n",
    "\\end{align}\n",
    "\n",
    "### Adding Noise\n",
    "\n",
    "Observational data are always contaminated with noise. Here we add Gaussian noise $N(0,\\epsilon)$ (zero mean and standard deviation $\\sigma$). Here we choose\n",
    "\n",
    "$$ \\epsilon = \\% |d| + \\text{floor} $$"
   ]
  },
  {
   "cell_type": "code",
   "execution_count": 7,
   "metadata": {
    "ExecuteTime": {
     "end_time": "2024-02-07T16:06:50.058900600Z",
     "start_time": "2024-02-07T16:06:49.764263800Z"
    },
    "colab": {
     "referenced_widgets": [
      "39c3409857d44ac2a2ba068025560f8a"
     ]
    },
    "id": "fGp_9HOfcrIv",
    "outputId": "9d89e83b-4295-4c34-e7a4-c805daeb05c2"
   },
   "outputs": [
    {
     "data": {
      "application/vnd.jupyter.widget-view+json": {
       "model_id": "9946c4f9a73c4b2784bda08079fb8430",
       "version_major": 2,
       "version_minor": 0
      },
      "text/plain": [
       "interactive(children=(Checkbox(value=False, description='add_noise'), FloatText(value=0.0, description='percen…"
      ]
     },
     "metadata": {},
     "output_type": "display_data"
    }
   ],
   "source": [
    "Q_data = app.interact_plot_data()"
   ]
  },
  {
   "cell_type": "code",
   "execution_count": 8,
   "metadata": {
    "ExecuteTime": {
     "end_time": "2024-02-07T16:06:51.803294300Z",
     "start_time": "2024-02-07T16:06:51.526224700Z"
    },
    "colab": {
     "referenced_widgets": [
      "44978254f6d04930bdd619fb7990a993"
     ]
    },
    "id": "TkvzY6M-crIv",
    "outputId": "cf1c9997-4275-40e7-f4f2-f5f6b5a4681b"
   },
   "outputs": [
    {
     "data": {
      "application/vnd.jupyter.widget-view+json": {
       "model_id": "9575dfc532e542ea86fe3840bcc2ac87",
       "version_major": 2,
       "version_minor": 0
      },
      "text/plain": [
       "VBox(children=(HBox(children=(VBox(children=(Button(description='Model', layout=Layout(height='30px', width='1…"
      ]
     },
     "execution_count": 8,
     "metadata": {},
     "output_type": "execute_result"
    }
   ],
   "source": [
    "app.interact_plot_all_three_together()"
   ]
  },
  {
   "cell_type": "markdown",
   "metadata": {
    "collapsed": false,
    "id": "pG8hY0jfcrIv"
   },
   "source": [
    "## Inverse Problem\n",
    "\n",
    "In the inverse problem we attempt to find the model $\\mathbf{m}$ that gave rise to the observational data $\\mathbf{d}^{obs}$. The inverse problem is formulated as an optimization problem:\n",
    "\n",
    "\n",
    "$$\\text{minimize} \\ \\ \\ \\phi(\\mathbf{m}) = \\phi_d(\\mathbf{m}) + \\beta \\phi_m(\\mathbf{m}) $$\n",
    "\n",
    "where\n",
    "\n",
    "- $\\phi_d$: data misfit\n",
    "- $\\phi_m$: model regularization\n",
    "- $\\beta$: trade-off (or Tikhonov) parameter  $0<\\beta<\\infty$\n",
    "\n",
    "Data misfit is defined as\n",
    "\n",
    "$$ \\phi_d = \\sum_{j=1}^{N}\\Big(\\frac{\\mathbf{g}_j\\mathbf{m}-d^{obs}_j}{\\epsilon_j}\\Big)^2$$\n",
    "\n",
    "where $\\epsilon_j$  is an estimate of the standard deviation of the $j$th datum.\n"
   ]
  },
  {
   "cell_type": "markdown",
   "metadata": {
    "collapsed": false,
    "id": "Ax1lukOncrIw"
   },
   "source": [
    "The model regularization term, $\\phi_m$, can be written as\n",
    "\n",
    "$$ \\phi_m(\\mathbf{m}) = \\alpha_s \\int (\\mathbf{m}-\\mathbf{m}_{ref}) dx + \\alpha_x \\int (\\frac{d \\mathbf{m}}{dx}) dx$$\n",
    "\n",
    "The first term is referred to as the \"smallness\" term. Minimizing this generates a model that is close to a reference model $m_{ref}$. The second term penalizes roughness of the model. It is generically referred to as a \"flattest\" or \"smoothness\" term.  "
   ]
  },
  {
   "cell_type": "markdown",
   "metadata": {
    "collapsed": false,
    "id": "_x8ROzeZcrIw"
   },
   "source": [
    "## Step5: Invert the data, and explore inversion results\n",
    "\n",
    "In the inverse problem we define parameters needed to evaluate the data misfit and the model regularization terms. We then deal with parameters associated with the inversion.\n",
    "\n",
    "### Parameters\n",
    "\n",
    "- `mode`: `Run` or `Explore`\n",
    "    - `Run`: Each click of the app, will run `n_beta` times of inversion\n",
    "    - `Explore`: Not running inversions, but explore result of the inversions\n",
    "\n",
    "\n",
    "- `noise option`: `error contaminated` or `clean data`\n",
    "\n",
    "#### Misfit\n",
    "- `percent`: percentage of the uncertainty (%)\n",
    "\n",
    "- `floor`: floor of the uncertainty (%)\n",
    "\n",
    "- `chifact`: chi factor for stopping criteria (when $\\phi_d^{\\ast}=N \\rightarrow$ `chifact=1`)\n",
    "\n",
    "#### Model norm\n",
    "- `mref`: reference model\n",
    "\n",
    "- `alpha_s`: $\\alpha_s$ for smallness\n",
    "\n",
    "- `alpha_x`: $\\alpha_x$ for smoothness\n",
    "\n",
    "#### Beta\n",
    "- `beta_min`: minimum $\\beta$\n",
    "\n",
    "- `beta_max`: maximum $\\beta$\n",
    "\n",
    "- `n_beta`: the number of $\\beta$\n",
    "\n",
    "#### Plotting options\n",
    "\n",
    "- `data`: `obs & pred` or `normalized misfit`\n",
    "    - `obs & pred`: show observed and predicted data\n",
    "    - `normalized misfit`: show normalized misfit\n",
    "\n",
    "\n",
    "- `tikhonov`: `phi_d & phi_m` or `phi_d vs phi_m`\n",
    "    - `phi_d & phi_m`: show $\\phi_d$ and $\\phi_m$ as a function of $\\beta$\n",
    "    - `phi_d vs phi_m`: show tikhonov curve\n",
    "    \n",
    "- `i_beta`: i-th $\\beta$ value\n",
    "\n",
    "- `scale`: `linear` or `log`\n",
    "    - `linear`: linear scale for plotting the third panel\n",
    "    - `log`: log scale for plotting the third panel"
   ]
  },
  {
   "cell_type": "code",
   "execution_count": 9,
   "metadata": {
    "ExecuteTime": {
     "end_time": "2024-02-07T16:06:56.218339Z",
     "start_time": "2024-02-07T16:06:55.359241800Z"
    },
    "colab": {
     "referenced_widgets": [
      "f2814685148e469c8041646146ac4720"
     ]
    },
    "id": "14Cf2wp1crIw",
    "outputId": "83d8387c-4b5b-4439-baa4-458d84d158cf"
   },
   "outputs": [
    {
     "data": {
      "application/vnd.jupyter.widget-view+json": {
       "model_id": "7a63dcef54634ddbb7136219c1419d90",
       "version_major": 2,
       "version_minor": 0
      },
      "text/plain": [
       "VBox(children=(HBox(children=(RadioButtons(description='mode', options=('Run', 'Explore'), value='Run'), Radio…"
      ]
     },
     "execution_count": 9,
     "metadata": {},
     "output_type": "execute_result"
    }
   ],
   "source": [
    "app.interact_plot_inversion()"
   ]
  }
 ],
 "metadata": {
  "colab": {
   "provenance": []
  },
  "iooxa": {
   "id": {
    "block": "cjnIdgfF82YJ74eqHMm7",
    "project": "FesuZy9nERkRH9r67vBe",
    "version": 4
   }
  },
  "kernelspec": {
   "display_name": "Python 3 (ipykernel)",
   "language": "python",
   "name": "python3"
  },
  "language_info": {
   "codemirror_mode": {
    "name": "ipython",
    "version": 3
   },
   "file_extension": ".py",
   "mimetype": "text/x-python",
   "name": "python",
   "nbconvert_exporter": "python",
   "pygments_lexer": "ipython3",
   "version": "3.11.6"
  }
 },
 "nbformat": 4,
 "nbformat_minor": 4
}
